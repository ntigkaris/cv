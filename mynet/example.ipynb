{
 "cells": [
  {
   "cell_type": "markdown",
   "metadata": {},
   "source": [
    "**Author: Ntigkaris E. Alexandros**\n",
    "\n",
    "*Description:* Demonstrating the inner workings of a neural network, applied on two popular sklearn datasets."
   ]
  },
  {
   "cell_type": "code",
   "execution_count": 1,
   "metadata": {},
   "outputs": [],
   "source": [
    "from sklearn.datasets import load_iris,load_breast_cancer\n",
    "\n",
    "from sklearn.linear_model import LogisticRegression\n",
    "from SNN import SNN\n",
    "\n",
    "from sklearn.preprocessing import StandardScaler,MinMaxScaler,RobustScaler\n",
    "from sklearn.model_selection import train_test_split\n",
    "\n",
    "from warnings import simplefilter; simplefilter(\"ignore\")"
   ]
  },
  {
   "cell_type": "markdown",
   "metadata": {},
   "source": [
    "**1. The Iris dataset** *(Multiclass classification)*"
   ]
  },
  {
   "cell_type": "code",
   "execution_count": 2,
   "metadata": {},
   "outputs": [
    {
     "name": "stdout",
     "output_type": "stream",
     "text": [
      "Epoch 1/50:\tCalculating...\tError: 0.6850627425353681\n",
      "Epoch 2/50:\tCalculating...\tError: 0.3442104626272904\n",
      "Epoch 3/50:\tCalculating...\tError: 0.31650566205379366\n",
      "Epoch 4/50:\tCalculating...\tError: 0.30039356173997583\n",
      "Epoch 5/50:\tCalculating...\tError: 0.28716416624739066\n",
      "Epoch 6/50:\tCalculating...\tError: 0.27695218411163786\n",
      "Epoch 7/50:\tCalculating...\tError: 0.26901593040914346\n",
      "Epoch 8/50:\tCalculating...\tError: 0.26237383182484053\n",
      "Epoch 9/50:\tCalculating...\tError: 0.2563769173603732\n",
      "Epoch 10/50:\tCalculating...\tError: 0.25069699245343174\n",
      "Epoch 11/50:\tCalculating...\tError: 0.2451977996372504\n",
      "Epoch 12/50:\tCalculating...\tError: 0.2398565871727132\n",
      "Epoch 13/50:\tCalculating...\tError: 0.2347334674058675\n",
      "Epoch 14/50:\tCalculating...\tError: 0.22995255182527277\n",
      "Epoch 15/50:\tCalculating...\tError: 0.22566421405234818\n",
      "Epoch 16/50:\tCalculating...\tError: 0.22198534967556477\n",
      "Epoch 17/50:\tCalculating...\tError: 0.21895094098842174\n",
      "Epoch 18/50:\tCalculating...\tError: 0.21651312135374623\n",
      "Epoch 19/50:\tCalculating...\tError: 0.21457935232216813\n",
      "Epoch 20/50:\tCalculating...\tError: 0.21305071067880643\n",
      "Epoch 21/50:\tCalculating...\tError: 0.21183942614913823\n",
      "Epoch 22/50:\tCalculating...\tError: 0.21087039781026073\n",
      "Epoch 23/50:\tCalculating...\tError: 0.21007750075477144\n",
      "Epoch 24/50:\tCalculating...\tError: 0.2094011059184312\n",
      "Epoch 25/50:\tCalculating...\tError: 0.2087885231278958\n",
      "Epoch 26/50:\tCalculating...\tError: 0.20819642493273177\n",
      "Epoch 27/50:\tCalculating...\tError: 0.20759344737484922\n",
      "Epoch 28/50:\tCalculating...\tError: 0.20696151602800864\n",
      "Epoch 29/50:\tCalculating...\tError: 0.20629532763543484\n",
      "Epoch 30/50:\tCalculating...\tError: 0.20560021673598233\n",
      "Epoch 31/50:\tCalculating...\tError: 0.20488904876868713\n",
      "Epoch 32/50:\tCalculating...\tError: 0.20417880401538296\n",
      "Epoch 33/50:\tCalculating...\tError: 0.20348729758490883\n",
      "Epoch 34/50:\tCalculating...\tError: 0.20283021255525305\n",
      "Epoch 35/50:\tCalculating...\tError: 0.2022184897961564\n",
      "Epoch 36/50:\tCalculating...\tError: 0.2016562073966232\n",
      "Epoch 37/50:\tCalculating...\tError: 0.20113930141332997\n",
      "Epoch 38/50:\tCalculating...\tError: 0.2006555843795849\n",
      "Epoch 39/50:\tCalculating...\tError: 0.20018631133350992\n",
      "Epoch 40/50:\tCalculating...\tError: 0.19970907489106093\n",
      "Epoch 41/50:\tCalculating...\tError: 0.19920135761390276\n",
      "Epoch 42/50:\tCalculating...\tError: 0.1986438960750268\n",
      "Epoch 43/50:\tCalculating...\tError: 0.19802316759649877\n",
      "Epoch 44/50:\tCalculating...\tError: 0.19733264798887096\n",
      "Epoch 45/50:\tCalculating...\tError: 0.1965728087084722\n",
      "Epoch 46/50:\tCalculating...\tError: 0.19575001317816376\n",
      "Epoch 47/50:\tCalculating...\tError: 0.1948745485723829\n",
      "Epoch 48/50:\tCalculating...\tError: 0.1939580757685951\n",
      "Epoch 49/50:\tCalculating...\tError: 0.19301085885257038\n",
      "Epoch 50/50:\tCalculating...\tError: 0.19203923032230316\n",
      "\n",
      "Accuracy with neural network: 0.9736842105263158\n",
      "\n",
      "Accuracy with logistic regression: 0.9736842105263158\n"
     ]
    }
   ],
   "source": [
    "df = load_iris()\n",
    "features = df.data\n",
    "targets = df.target\n",
    "scaler = RobustScaler()\n",
    "scaler.fit(features)\n",
    "features = scaler.transform(features)\n",
    "\n",
    "X_train , X_test , y_train , y_test = train_test_split(features,targets,stratify=targets,random_state=0)\n",
    "\n",
    "n1 = SNN(\n",
    "            input_layer=4,\n",
    "            output_layer=3,\n",
    "            hidden_layer=64,\n",
    "            learning_rate=.5,\n",
    "            epochs=50,\n",
    "            random_state=0,\n",
    "            verbose=True,\n",
    "            activation_fn=\"sigmoid\",\n",
    "        )\n",
    "n1.fit(X_train,y_train)\n",
    "print(f\"\\nAccuracy with neural network: {n1.score(X_test,y_test)}\")\n",
    "\n",
    "r1 = LogisticRegression(penalty='l2',random_state=0)\n",
    "r1.fit(X_train,y_train)\n",
    "print(f\"\\nAccuracy with logistic regression: {r1.score(X_test,y_test)}\")"
   ]
  },
  {
   "cell_type": "markdown",
   "metadata": {},
   "source": [
    "**2. The Breast Cancer dataset** *(Binary classification)*"
   ]
  },
  {
   "cell_type": "code",
   "execution_count": 3,
   "metadata": {},
   "outputs": [
    {
     "name": "stdout",
     "output_type": "stream",
     "text": [
      "Epoch 1/25:\tCalculating...\tError: 54.96642616042189\n",
      "Epoch 2/25:\tCalculating...\tError: 11.643757623753663\n",
      "Epoch 3/25:\tCalculating...\tError: 8.984504098683294\n",
      "Epoch 4/25:\tCalculating...\tError: 7.627611691569838\n",
      "Epoch 5/25:\tCalculating...\tError: 6.888211180785808\n",
      "Epoch 6/25:\tCalculating...\tError: 6.445099179933422\n",
      "Epoch 7/25:\tCalculating...\tError: 6.154004128834797\n",
      "Epoch 8/25:\tCalculating...\tError: 5.943953034748593\n",
      "Epoch 9/25:\tCalculating...\tError: 5.776352036334906\n",
      "Epoch 10/25:\tCalculating...\tError: 5.63246260386186\n",
      "Epoch 11/25:\tCalculating...\tError: 5.507310463769753\n",
      "Epoch 12/25:\tCalculating...\tError: 5.401750148608992\n",
      "Epoch 13/25:\tCalculating...\tError: 5.315611851744588\n",
      "Epoch 14/25:\tCalculating...\tError: 5.246181014439028\n",
      "Epoch 15/25:\tCalculating...\tError: 5.1894084930132625\n",
      "Epoch 16/25:\tCalculating...\tError: 5.141484643960143\n",
      "Epoch 17/25:\tCalculating...\tError: 5.099665765180333\n",
      "Epoch 18/25:\tCalculating...\tError: 5.062330615311823\n",
      "Epoch 19/25:\tCalculating...\tError: 5.028765750710994\n",
      "Epoch 20/25:\tCalculating...\tError: 4.998897854237306\n",
      "Epoch 21/25:\tCalculating...\tError: 4.973002694204924\n",
      "Epoch 22/25:\tCalculating...\tError: 4.9513995940243145\n",
      "Epoch 23/25:\tCalculating...\tError: 4.934169772641801\n",
      "Epoch 24/25:\tCalculating...\tError: 4.920990143287432\n",
      "Epoch 25/25:\tCalculating...\tError: 4.911197075693444\n",
      "\n",
      "Accuracy with neural network: 0.965034965034965\n",
      "\n",
      "Accuracy with logistic regression: 0.9370629370629371\n"
     ]
    }
   ],
   "source": [
    "df = load_breast_cancer()\n",
    "features = df.data\n",
    "targets = df.target\n",
    "scaler = StandardScaler()\n",
    "scaler.fit(features)\n",
    "features = scaler.transform(features)\n",
    "\n",
    "X_train , X_test , y_train , y_test = train_test_split(features,targets,stratify=targets,random_state=0)\n",
    "\n",
    "n2 = SNN(\n",
    "            input_layer=30,\n",
    "            output_layer=2,\n",
    "            hidden_layer=64,\n",
    "            learning_rate=.1,\n",
    "            epochs=25,\n",
    "            random_state=0,\n",
    "            verbose=True,\n",
    "            error_type=\"ESS\",\n",
    "            activation_fn=\"sigmoid\",\n",
    "        )\n",
    "n2.fit(X_train,y_train)\n",
    "print(f\"\\nAccuracy with neural network: {n2.score(X_test,y_test)}\")\n",
    "\n",
    "r2 = LogisticRegression(penalty='none',random_state=0)\n",
    "r2.fit(X_train,y_train)\n",
    "print(f\"\\nAccuracy with logistic regression: {r2.score(X_test,y_test)}\")"
   ]
  },
  {
   "cell_type": "code",
   "execution_count": 4,
   "metadata": {},
   "outputs": [
    {
     "data": {
      "image/png": "[encoded data removed]",
      "text/plain": [
       "<Figure size 432x288 with 1 Axes>"
      ]
     },
     "metadata": {},
     "output_type": "display_data"
    },
    {
     "name": "stdout",
     "output_type": "stream",
     "text": [
      "----------------------------------------\n",
      "Epochs performed: 25\n",
      "Final error ('ESS'): 4.911197075693444\n",
      "Input nodes used: 30\n",
      "Hidden nodes used: 64\n",
      "Output nodes used: 2\n",
      "Activation function: sigmoid\n",
      "Algorithm's learning rate: 0.1\n",
      "----------------------------------------\n"
     ]
    }
   ],
   "source": [
    "n2._diagnostics()"
   ]
  }
 ],
 "metadata": {
  "interpreter": {
   "hash": "fc4ec3e1e45dbed50ccb362c81c286f971a73684e0190e5b24f76b1458a49104"
  },
  "kernelspec": {
   "display_name": "Python 3.9.2 64-bit",
   "language": "python",
   "name": "python3"
  },
  "language_info": {
   "codemirror_mode": {
    "name": "ipython",
    "version": 3
   },
   "file_extension": ".py",
   "mimetype": "text/x-python",
   "name": "python",
   "nbconvert_exporter": "python",
   "pygments_lexer": "ipython3",
   "version": "3.9.2"
  },
  "orig_nbformat": 4
 },
 "nbformat": 4,
 "nbformat_minor": 2
}
